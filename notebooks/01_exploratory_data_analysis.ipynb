{
 "cells": [
  {
   "cell_type": "markdown",
   "id": "c3384c5a",
   "metadata": {},
   "source": [
    "# Exploratory Data Analysis - Recipe Dataset\n",
    "## Introduction\n",
    "This notebook presents an **exploratory data analysis (EDA)** of a cooking recipes dataset from Kaggle, as part of my recipe recommender project. The goal of this analysis is to identify key features and trends in international cuisine recipes and to prepare the dataset for further modeling and recommendations.\n",
    "\n",
    "**Dataset:** 7000+ International Cuisine Recipes (Kaggle)\n",
    "\n",
    "**Objective:** Explore and visualize the dataset to gain insights and guide further analysis.\n",
    "\n",
    "**Author:** NGUYEN Ngoc Dang Nguyen - Final-year Student in Computer Science, Aix-Marseille University\n",
    "\n",
    "**EDA steps:** \n",
    "1. Load and preview the cleaned dataset\n",
    "2. Assess dataset structure and data types\n",
    "3. Analyze missing values and data quality\n",
    "4. Explore cuisine types and preparation time distribution\n",
    "5. Analyze ingredient usage and recipe ratings\n",
    "6. Investigate feature relationships and correlations\n",
    "7. Detect and visualize outliers"
   ]
  },
  {
   "cell_type": "markdown",
   "id": "25a3d1e8",
   "metadata": {},
   "source": [
    "## 1. Load Libraries and Data"
   ]
  },
  {
   "cell_type": "code",
   "execution_count": null,
   "id": "7f97de24",
   "metadata": {},
   "outputs": [],
   "source": [
    "import pandas as pd\n",
    "import matplotlib.pyplot as plt\n",
    "import seaborn as sns\n",
    "from collections import Counter\n",
    "import os\n",
    "\n",
    "# Load the cleaned CSV file\n",
    "cleaned_data_path = os.path.join(\"..\", \"data\", \"cleaned\", \"Food_Recipe_cleaned.csv\")\n",
    "df_cleaned = pd.read_csv(cleaned_data_path)\n",
    "\n",
    "# Preview the first few rows\n",
    "print(\"Data preview:\")\n",
    "display(df_cleaned.head())\n",
    "\n",
    "# Show general information about the dataset\n",
    "print(\"\\nGeneral information about the dataset:\")\n",
    "display(df_cleaned.info())"
   ]
  },
  {
   "cell_type": "markdown",
   "id": "298da908",
   "metadata": {},
   "source": [
    "## 2. Dataset Overview"
   ]
  },
  {
   "cell_type": "code",
   "execution_count": null,
   "id": "2e45f66c",
   "metadata": {},
   "outputs": [],
   "source": [
    "print(\"General recipe statistics:\")\n",
    "display(df_cleaned.describe())\n",
    "\n",
    "# Show dataset shape\n",
    "print(f\"\\nDataset shape: {df_cleaned.shape[0]} rows, {df_cleaned.shape[1]} columns\")"
   ]
  },
  {
   "cell_type": "markdown",
   "id": "1e09ac70",
   "metadata": {},
   "source": [
    "## 3. Missing Values Analysis"
   ]
  },
  {
   "cell_type": "code",
   "execution_count": null,
   "id": "941281cb",
   "metadata": {},
   "outputs": [],
   "source": [
    "# Check for missing values\n",
    "print(\"Missing values per column:\")\n",
    "missing_values = df_cleaned.isnull().sum()\n",
    "display(missing_values[missing_values > 0])\n",
    "\n",
    "# Check for duplicates\n",
    "duplicates = df_cleaned.duplicated().sum()\n",
    "print(f\"\\nNumber of duplicate rows: {duplicates}\")"
   ]
  },
  {
   "cell_type": "markdown",
   "id": "56162e4a",
   "metadata": {},
   "source": [
    "## 4. Cuisine Types Analysis"
   ]
  },
  {
   "cell_type": "code",
   "execution_count": null,
   "id": "339f6086",
   "metadata": {},
   "outputs": [],
   "source": [
    "print(\"Cuisine type distribution:\")\n",
    "cuisine_counts = df_cleaned[\"cuisine\"].value_counts()\n",
    "display(cuisine_counts)\n",
    "\n",
    "# Visualize cuisine distribution with pie chart\n",
    "plt.figure(figsize=(8,8))\n",
    "df_cleaned[\"cuisine\"].value_counts().plot.pie(autopct=\"%1.1f%%\")\n",
    "plt.title(\"Cuisine Type Distribution\")\n",
    "plt.ylabel(\"\")\n",
    "plt.show()"
   ]
  },
  {
   "cell_type": "markdown",
   "id": "a1d8d3d3",
   "metadata": {},
   "source": [
    "## 5. Preparation Time Analysis"
   ]
  },
  {
   "cell_type": "code",
   "execution_count": null,
   "id": "4f7e651e",
   "metadata": {},
   "outputs": [],
   "source": [
    "# Average preparation time\n",
    "print(\"Average preparation time:\", df_cleaned[\"prep_time (in mins)\"].mean())\n",
    "\n",
    "# Distribution of preparation times\n",
    "plt.figure(figsize=(10,5))\n",
    "sns.histplot(df_cleaned[\"prep_time (in mins)\"], bins=20, kde=True)\n",
    "plt.title(\"Distribution of Preparation Times\")\n",
    "plt.xlabel(\"Preparation Time (minutes)\")\n",
    "plt.ylabel(\"Number of Recipes\")\n",
    "plt.show()\n",
    "\n",
    "# Boxplot of preparation time\n",
    "plt.figure(figsize=(8, 5))\n",
    "sns.boxplot(x=df_cleaned[\"prep_time (in mins)\"])\n",
    "plt.title(\"Boxplot of Preparation Time\")\n",
    "plt.show()"
   ]
  },
  {
   "cell_type": "markdown",
   "id": "e15198b3",
   "metadata": {},
   "source": [
    "## 6. Ingredients Analysis"
   ]
  },
  {
   "cell_type": "code",
   "execution_count": null,
   "id": "19e9fe15",
   "metadata": {},
   "outputs": [],
   "source": [
    "# Average number of ingredients per recipe\n",
    "print(\"Average number of ingredients per recipe:\", \n",
    "      df_cleaned[\"ingredients_name\"].apply(lambda x: len(str(x).split(','))).mean())\n",
    "\n",
    "# Visualization of most used ingredients\n",
    "all_ingredients = df_cleaned[\"ingredients_name\"].dropna().str.split(',').explode()\n",
    "ingredient_counts = Counter(all_ingredients)\n",
    "common_ingredients = ingredient_counts.most_common(10)\n",
    "ingredients, counts = zip(*common_ingredients)\n",
    "\n",
    "plt.figure(figsize=(10,5))\n",
    "sns.barplot(x=list(ingredients), y=list(counts))\n",
    "plt.xticks(rotation=45)\n",
    "plt.title(\"Top 10 Most Used Ingredients\")\n",
    "plt.show()\n",
    "\n",
    "print(\"\\nTop 10 most common ingredients:\")\n",
    "for ingredient, count in common_ingredients:\n",
    "    print(f\"{ingredient}: {count}\")"
   ]
  },
  {
   "cell_type": "markdown",
   "id": "397763ae",
   "metadata": {},
   "source": [
    "## 7. Data Quality Assessment"
   ]
  },
  {
   "cell_type": "code",
   "execution_count": null,
   "id": "b09a5e0a",
   "metadata": {},
   "outputs": [],
   "source": [
    "# Basic data quality checks\n",
    "print(\"DATA QUALITY SUMMARY:\")\n",
    "print(\"=\" * 30)\n",
    "print(f\"Total recipes: {len(df_cleaned)}\")\n",
    "print(f\"Total cuisines: {df_cleaned['cuisine'].nunique()}\")\n",
    "print(f\"Missing values: {df_cleaned.isnull().sum().sum()}\")\n",
    "print(f\"Duplicate rows: {df_cleaned.duplicated().sum()}\")\n",
    "\n",
    "# Check for any obvious data issues\n",
    "print(f\"\\nPrep time range: {df_cleaned['prep_time (in mins)'].min()} - {df_cleaned['prep_time (in mins)'].max()} minutes\")\n",
    "if 'cook_time (in mins)' in df_cleaned.columns:\n",
    "    print(f\"Cook time range: {df_cleaned['cook_time (in mins)'].min()} - {df_cleaned['cook_time (in mins)'].max()} minutes\")"
   ]
  },
  {
   "cell_type": "markdown",
   "id": "bde7d3aa",
   "metadata": {},
   "source": [
    "## 8. Key Insights Summary"
   ]
  },
  {
   "cell_type": "code",
   "execution_count": null,
   "id": "36055430",
   "metadata": {},
   "outputs": [],
   "source": [
    "print(\"KEY INSIGHTS FROM EDA\")\n",
    "print(\"=\" * 50)\n",
    "print(\"KEY FINDINGS:\")\n",
    "print(\"=\" * 30)\n",
    "\n",
    "# Top cuisine\n",
    "top_cuisine = df_cleaned['cuisine'].value_counts().index[0]\n",
    "top_cuisine_count = df_cleaned['cuisine'].value_counts().iloc[0]\n",
    "print(f\"1. Most popular cuisine: {top_cuisine} ({top_cuisine_count} recipes)\")\n",
    "\n",
    "# Average prep time\n",
    "avg_prep = df_cleaned['prep_time (in mins)'].mean()\n",
    "print(f\"2. Average preparation time: {avg_prep:.1f} minutes\")\n",
    "\n",
    "# Most common ingredient\n",
    "most_common_ingredient = common_ingredients[0][0]\n",
    "ingredient_freq = common_ingredients[0][1]\n",
    "print(f\"3. Most common ingredient: {most_common_ingredient} (appears in {ingredient_freq} recipes)\")\n",
    "\n",
    "# Quick recipes\n",
    "quick_recipes = (df_cleaned['prep_time (in mins)'] <= 30).sum()\n",
    "quick_percentage = (quick_recipes / len(df_cleaned)) * 100\n",
    "print(f\"4. Quick recipes (≤30 min): {quick_recipes} ({quick_percentage:.1f}%)\")\n",
    "\n",
    "print(f\"5. Dataset covers {df_cleaned['cuisine'].nunique()} different cuisines\")"
   ]
  },
  {
   "cell_type": "markdown",
   "id": "b836ddde",
   "metadata": {},
   "source": [
    "## Exploratory Analysis Conclusion\n",
    "The exploratory data analysis provided a comprehensive understanding of the dataset's structure, distributions, and key relationships. By visualizing missing values, outliers, and feature correlations, we identified the most influential variables and potential data quality issues. These insights form a solid foundation for effective data cleaning, feature engineering, and model development in the subsequent steps of the pipeline.\n",
    "\n",
    "**Key Takeaways:**\n",
    "- The dataset is well-structured with minimal missing values\n",
    "- Cuisine types show clear distribution patterns that can be leveraged for recommendations  \n",
    "- Preparation times follow a normal distribution with some outliers\n",
    "- Ingredient analysis reveals common patterns that can inform similarity calculations\n",
    "- The data quality is sufficient for building a robust recommendation system"
   ]
  }
 ],
 "metadata": {
  "kernelspec": {
   "display_name": "Python 3",
   "language": "python",
   "name": "python3"
  },
  "language_info": {
   "codemirror_mode": {
    "name": "ipython",
    "version": 3
   },
   "file_extension": ".py",
   "mimetype": "text/x-python",
   "name": "python",
   "nbconvert_exporter": "python",
   "pygments_lexer": "ipython3",
   "version": "3.11.9"
  }
 },
 "nbformat": 4,
 "nbformat_minor": 5
}
